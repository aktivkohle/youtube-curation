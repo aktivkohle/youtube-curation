{
 "cells": [
  {
   "cell_type": "code",
   "execution_count": 3,
   "metadata": {
    "collapsed": true
   },
   "outputs": [],
   "source": [
    "from subprocess import Popen, PIPE, STDOUT\n",
    "import sys\n",
    "sys.path.append('../')\n",
    "import os\n",
    "import glob\n",
    "import config\n",
    "from datetime import datetime\n",
    "import time\n",
    "import pymysql.cursors\n",
    "import pandas as pd\n",
    "\n",
    "connection = pymysql.connect(host='localhost',\n",
    "                             user='root',\n",
    "                             password=config.MYSQL_SERVER_PASSWORD,\n",
    "                             db='youtubeProjectDB',\n",
    "                             charset='utf8mb4', # deals with the exotic emojis\n",
    "                             cursorclass=pymysql.cursors.DictCursor)\n",
    "\n",
    "sql1 = \"\"\"SELECT videoId, captionsText FROM captions\n",
    "         WHERE language='en'\n",
    "         AND videoId IN \n",
    "         (SELECT videoId from search_api WHERE query_q = 'machine+learning' OR query_q = 'scikit');\"\"\"\n",
    "\n",
    "\n",
    "sql2 = \"\"\"SELECT captions.videoId, captions.captionsText, statistics.durationSeconds FROM captions \n",
    "        INNER JOIN statistics\n",
    "        ON captions.videoId = statistics.videoId\n",
    "        WHERE captions.language='en'\n",
    "        AND captions.videoId IN \n",
    "        (SELECT videoId from search_api WHERE query_q = 'machine+learning' OR query_q = 'scikit');\"\"\"\n",
    "\n",
    "df = pd.read_sql(sql2, connection)"
   ]
  },
  {
   "cell_type": "code",
   "execution_count": 60,
   "metadata": {
    "collapsed": true
   },
   "outputs": [],
   "source": [
    "import spacy\n",
    "nlp = spacy.load('en')\n",
    "df['wordCount'] = df['captionsText'].map(lambda x: len(nlp(x)))\n",
    "df['wordsPerMinute'] = df['wordCount'] / (df['durationSeconds'] / 60)"
   ]
  },
  {
   "cell_type": "code",
   "execution_count": 65,
   "metadata": {
    "collapsed": true
   },
   "outputs": [],
   "source": []
  },
  {
   "cell_type": "code",
   "execution_count": 72,
   "metadata": {
    "collapsed": false
   },
   "outputs": [
    {
     "data": {
      "text/plain": [
       "<matplotlib.axes._subplots.AxesSubplot at 0x7f4c445525f8>"
      ]
     },
     "execution_count": 72,
     "metadata": {},
     "output_type": "execute_result"
    },
    {
     "data": {
      "image/png": "[encoded data removed]",
      "text/plain": [
       "<matplotlib.figure.Figure at 0x7f4c75ad80f0>"
      ]
     },
     "metadata": {},
     "output_type": "display_data"
    }
   ],
   "source": [
    "%matplotlib inline\n",
    "df.durationSeconds.plot(kind='hist', bins=30)"
   ]
  },
  {
   "cell_type": "code",
   "execution_count": 73,
   "metadata": {
    "collapsed": false
   },
   "outputs": [
    {
     "data": {
      "text/plain": [
       "<matplotlib.axes._subplots.AxesSubplot at 0x7f4c445b9780>"
      ]
     },
     "execution_count": 73,
     "metadata": {},
     "output_type": "execute_result"
    },
    {
     "data": {
      "image/png": "[encoded data removed]",
      "text/plain": [
       "<matplotlib.figure.Figure at 0x7f4c865f9780>"
      ]
     },
     "metadata": {},
     "output_type": "display_data"
    }
   ],
   "source": [
    "df.wordCount.plot(kind='hist', bins=30)"
   ]
  },
  {
   "cell_type": "code",
   "execution_count": 74,
   "metadata": {
    "collapsed": false
   },
   "outputs": [
    {
     "data": {
      "text/plain": [
       "<matplotlib.axes._subplots.AxesSubplot at 0x7f4c8629fb00>"
      ]
     },
     "execution_count": 74,
     "metadata": {},
     "output_type": "execute_result"
    },
    {
     "data": {
      "image/png": "[encoded data removed]",
      "text/plain": [
       "<matplotlib.figure.Figure at 0x7f4c46cd2390>"
      ]
     },
     "metadata": {},
     "output_type": "display_data"
    }
   ],
   "source": [
    "df.wordsPerMinute.plot(kind='hist', bins=30)"
   ]
  },
  {
   "cell_type": "code",
   "execution_count": null,
   "metadata": {
    "collapsed": true
   },
   "outputs": [],
   "source": []
  }
 ],
 "metadata": {
  "anaconda-cloud": {},
  "kernelspec": {
   "display_name": "Python [default]",
   "language": "python",
   "name": "python3"
  },
  "language_info": {
   "codemirror_mode": {
    "name": "ipython",
    "version": 3
   },
   "file_extension": ".py",
   "mimetype": "text/x-python",
   "name": "python",
   "nbconvert_exporter": "python",
   "pygments_lexer": "ipython3",
   "version": "3.5.2"
  }
 },
 "nbformat": 4,
 "nbformat_minor": 2
}
